{
 "cells": [
  {
   "cell_type": "markdown",
   "metadata": {},
   "source": [
    "# NLP Data Processor"
   ]
  },
  {
   "cell_type": "code",
   "execution_count": 2,
   "metadata": {},
   "outputs": [
    {
     "name": "stderr",
     "output_type": "stream",
     "text": [
      "[nltk_data] Downloading package stopwords to\n",
      "[nltk_data]     C:\\Users\\mahlo\\AppData\\Roaming\\nltk_data...\n",
      "[nltk_data]   Package stopwords is already up-to-date!\n"
     ]
    }
   ],
   "source": [
    "# Import dependencies\n",
    "import pandas as pd\n",
    "import numpy as np\n",
    "import re\n",
    "import nltk\n",
    "from sklearn.datasets import load_files\n",
    "nltk.download('stopwords')\n",
    "import pickle\n",
    "from nltk.corpus import stopwords\n",
    "from sklearn.ensemble import RandomForestClassifier\n",
    "from sklearn.feature_extraction.text import CountVectorizer\n",
    "from sklearn.feature_extraction.text import TfidfTransformer\n",
    "from sklearn.feature_extraction.text import TfidfVectorizer\n",
    "from sklearn.model_selection import train_test_split\n",
    "from sklearn.metrics import classification_report, confusion_matrix, accuracy_score\n",
    "from nltk.stem import WordNetLemmatizer"
   ]
  },
  {
   "cell_type": "markdown",
   "metadata": {},
   "source": [
    "## Load source data"
   ]
  },
  {
   "cell_type": "code",
   "execution_count": 5,
   "metadata": {},
   "outputs": [
    {
     "data": {
      "text/html": [
       "<div>\n",
       "<style scoped>\n",
       "    .dataframe tbody tr th:only-of-type {\n",
       "        vertical-align: middle;\n",
       "    }\n",
       "\n",
       "    .dataframe tbody tr th {\n",
       "        vertical-align: top;\n",
       "    }\n",
       "\n",
       "    .dataframe thead th {\n",
       "        text-align: right;\n",
       "    }\n",
       "</style>\n",
       "<table border=\"1\" class=\"dataframe\">\n",
       "  <thead>\n",
       "    <tr style=\"text-align: right;\">\n",
       "      <th></th>\n",
       "      <th>service_request_id</th>\n",
       "      <th>service_request_parent_id</th>\n",
       "      <th>sap_notification_number</th>\n",
       "      <th>date_requested</th>\n",
       "      <th>case_age_days</th>\n",
       "      <th>service_name</th>\n",
       "      <th>case_record_type</th>\n",
       "      <th>date_updated</th>\n",
       "      <th>status</th>\n",
       "      <th>lat</th>\n",
       "      <th>lng</th>\n",
       "      <th>council_district</th>\n",
       "      <th>comm_plan_code</th>\n",
       "      <th>comm_plan_name</th>\n",
       "      <th>park_name</th>\n",
       "      <th>case_origin</th>\n",
       "      <th>referred</th>\n",
       "      <th>public_description</th>\n",
       "      <th>urgent</th>\n",
       "    </tr>\n",
       "  </thead>\n",
       "  <tbody>\n",
       "    <tr>\n",
       "      <th>0</th>\n",
       "      <td>2475207</td>\n",
       "      <td>NaN</td>\n",
       "      <td>NaN</td>\n",
       "      <td>2019-01-01T00:20:00</td>\n",
       "      <td>NaN</td>\n",
       "      <td>Other</td>\n",
       "      <td>TSW</td>\n",
       "      <td>NaN</td>\n",
       "      <td>Referred</td>\n",
       "      <td>32.710427</td>\n",
       "      <td>-117.145192</td>\n",
       "      <td>8</td>\n",
       "      <td>37</td>\n",
       "      <td>Southeastern San Diego</td>\n",
       "      <td>NaN</td>\n",
       "      <td>Mobile</td>\n",
       "      <td>This report has been referred to Police CRO ? ...</td>\n",
       "      <td>19th and 20th island ave people firing gun sho...</td>\n",
       "      <td>yes</td>\n",
       "    </tr>\n",
       "    <tr>\n",
       "      <th>1</th>\n",
       "      <td>2475208</td>\n",
       "      <td>NaN</td>\n",
       "      <td>NaN</td>\n",
       "      <td>2019-01-01T00:20:00</td>\n",
       "      <td>NaN</td>\n",
       "      <td>Other</td>\n",
       "      <td>TSW</td>\n",
       "      <td>NaN</td>\n",
       "      <td>Referred</td>\n",
       "      <td>32.702298</td>\n",
       "      <td>-117.092751</td>\n",
       "      <td>4</td>\n",
       "      <td>11</td>\n",
       "      <td>Encanto Neighborhoods</td>\n",
       "      <td>NaN</td>\n",
       "      <td>Mobile</td>\n",
       "      <td>This report has been referred to Police CRO ? ...</td>\n",
       "      <td>Ongoing loud fireworks in area near El Rey Tra...</td>\n",
       "      <td>no</td>\n",
       "    </tr>\n",
       "    <tr>\n",
       "      <th>2</th>\n",
       "      <td>2475209</td>\n",
       "      <td>NaN</td>\n",
       "      <td>NaN</td>\n",
       "      <td>2019-01-01T00:21:00</td>\n",
       "      <td>15.0</td>\n",
       "      <td>Litter</td>\n",
       "      <td>ESD Complaint/Report</td>\n",
       "      <td>2019-01-15T00:00:00</td>\n",
       "      <td>Closed</td>\n",
       "      <td>32.719797</td>\n",
       "      <td>-117.060215</td>\n",
       "      <td>4</td>\n",
       "      <td>11</td>\n",
       "      <td>Encanto Neighborhoods</td>\n",
       "      <td>NaN</td>\n",
       "      <td>Mobile</td>\n",
       "      <td>NaN</td>\n",
       "      <td>3 bags of garbage and one box</td>\n",
       "      <td>no</td>\n",
       "    </tr>\n",
       "    <tr>\n",
       "      <th>3</th>\n",
       "      <td>2475210</td>\n",
       "      <td>NaN</td>\n",
       "      <td>4.030009e+10</td>\n",
       "      <td>2019-01-01T01:06:00</td>\n",
       "      <td>189.0</td>\n",
       "      <td>Street Sweeping</td>\n",
       "      <td>TSW</td>\n",
       "      <td>2019-07-09T00:00:00</td>\n",
       "      <td>Closed</td>\n",
       "      <td>32.702164</td>\n",
       "      <td>-117.051741</td>\n",
       "      <td>4</td>\n",
       "      <td>44</td>\n",
       "      <td>Skyline-Paradise Hills</td>\n",
       "      <td>NaN</td>\n",
       "      <td>Web</td>\n",
       "      <td>NaN</td>\n",
       "      <td>North side of Skyline Drive from Cielo to Wood...</td>\n",
       "      <td>no</td>\n",
       "    </tr>\n",
       "    <tr>\n",
       "      <th>4</th>\n",
       "      <td>2475211</td>\n",
       "      <td>NaN</td>\n",
       "      <td>4.030009e+10</td>\n",
       "      <td>2019-01-01T01:12:00</td>\n",
       "      <td>18.0</td>\n",
       "      <td>Engineering - Traffic Calming/Safety Features</td>\n",
       "      <td>Traffic Engineering</td>\n",
       "      <td>2019-01-18T00:00:00</td>\n",
       "      <td>Closed</td>\n",
       "      <td>32.829445</td>\n",
       "      <td>-117.279999</td>\n",
       "      <td>1</td>\n",
       "      <td>10</td>\n",
       "      <td>La Jolla</td>\n",
       "      <td>NaN</td>\n",
       "      <td>Mobile</td>\n",
       "      <td>NaN</td>\n",
       "      <td>On December 13, 2018, this delivery truck back...</td>\n",
       "      <td>no</td>\n",
       "    </tr>\n",
       "  </tbody>\n",
       "</table>\n",
       "</div>"
      ],
      "text/plain": [
       "   service_request_id  service_request_parent_id  sap_notification_number  \\\n",
       "0             2475207                        NaN                      NaN   \n",
       "1             2475208                        NaN                      NaN   \n",
       "2             2475209                        NaN                      NaN   \n",
       "3             2475210                        NaN             4.030009e+10   \n",
       "4             2475211                        NaN             4.030009e+10   \n",
       "\n",
       "        date_requested  case_age_days  \\\n",
       "0  2019-01-01T00:20:00            NaN   \n",
       "1  2019-01-01T00:20:00            NaN   \n",
       "2  2019-01-01T00:21:00           15.0   \n",
       "3  2019-01-01T01:06:00          189.0   \n",
       "4  2019-01-01T01:12:00           18.0   \n",
       "\n",
       "                                    service_name      case_record_type  \\\n",
       "0                                          Other                   TSW   \n",
       "1                                          Other                   TSW   \n",
       "2                                         Litter  ESD Complaint/Report   \n",
       "3                                Street Sweeping                   TSW   \n",
       "4  Engineering - Traffic Calming/Safety Features   Traffic Engineering   \n",
       "\n",
       "          date_updated    status        lat         lng  council_district  \\\n",
       "0                  NaN  Referred  32.710427 -117.145192                 8   \n",
       "1                  NaN  Referred  32.702298 -117.092751                 4   \n",
       "2  2019-01-15T00:00:00    Closed  32.719797 -117.060215                 4   \n",
       "3  2019-07-09T00:00:00    Closed  32.702164 -117.051741                 4   \n",
       "4  2019-01-18T00:00:00    Closed  32.829445 -117.279999                 1   \n",
       "\n",
       "   comm_plan_code          comm_plan_name  park_name case_origin  \\\n",
       "0              37  Southeastern San Diego        NaN      Mobile   \n",
       "1              11   Encanto Neighborhoods        NaN      Mobile   \n",
       "2              11   Encanto Neighborhoods        NaN      Mobile   \n",
       "3              44  Skyline-Paradise Hills        NaN         Web   \n",
       "4              10                La Jolla        NaN      Mobile   \n",
       "\n",
       "                                            referred  \\\n",
       "0  This report has been referred to Police CRO ? ...   \n",
       "1  This report has been referred to Police CRO ? ...   \n",
       "2                                                NaN   \n",
       "3                                                NaN   \n",
       "4                                                NaN   \n",
       "\n",
       "                                  public_description urgent  \n",
       "0  19th and 20th island ave people firing gun sho...    yes  \n",
       "1  Ongoing loud fireworks in area near El Rey Tra...     no  \n",
       "2                      3 bags of garbage and one box     no  \n",
       "3  North side of Skyline Drive from Cielo to Wood...     no  \n",
       "4  On December 13, 2018, this delivery truck back...     no  "
      ]
     },
     "execution_count": 5,
     "metadata": {},
     "output_type": "execute_result"
    }
   ],
   "source": [
    "# Load data: Small sample data\n",
    "df = pd.read_csv(\n",
    "    'Sample CSVs/2019-sample-small.csv', header=0)\n",
    "df.head()"
   ]
  },
  {
   "cell_type": "code",
   "execution_count": 10,
   "metadata": {},
   "outputs": [],
   "source": [
    "# Plug the CSV's public_description column and urgent column into X and y\n",
    "X, y = df.public_description, df.urgent"
   ]
  },
  {
   "cell_type": "markdown",
   "metadata": {},
   "source": [
    "## Data pre-processing"
   ]
  },
  {
   "cell_type": "code",
   "execution_count": 13,
   "metadata": {},
   "outputs": [],
   "source": [
    "documents = []\n",
    "\n",
    "stemmer = WordNetLemmatizer()\n",
    "\n",
    "for sen in range(0, len(X)):\n",
    "    # Remove all the special characters\n",
    "    document = re.sub(r'\\W', ' ', str(X[sen]))\n",
    "    \n",
    "    # remove all single characters\n",
    "    document = re.sub(r'\\s+[a-zA-Z]\\s+', ' ', document)\n",
    "    \n",
    "    # Remove single characters from the start\n",
    "    document = re.sub(r'\\^[a-zA-Z]\\s+', ' ', document) \n",
    "    \n",
    "    # Substituting multiple spaces with single space\n",
    "    document = re.sub(r'\\s+', ' ', document, flags=re.I)\n",
    "    \n",
    "    # Removing prefixed 'b'\n",
    "    document = re.sub(r'^b\\s+', '', document)\n",
    "    \n",
    "    # Converting to Lowercase\n",
    "    document = document.lower()\n",
    "    \n",
    "    # Lemmatization\n",
    "#     document = document.split()\n",
    "\n",
    "#     document = [stemmer.lemmatize(word) for word in document]\n",
    "#     document = ' '.join(document)\n",
    "    \n",
    "    documents.append(document)"
   ]
  },
  {
   "cell_type": "markdown",
   "metadata": {},
   "source": [
    "---------------------\n",
    "# Calculate TF-IDF using one of two methods"
   ]
  },
  {
   "cell_type": "markdown",
   "metadata": {},
   "source": [
    "## Bag of Words method"
   ]
  },
  {
   "cell_type": "code",
   "execution_count": 18,
   "metadata": {},
   "outputs": [],
   "source": [
    "# Use Bag of Words to to encode text\n",
    "vectorizer = CountVectorizer(max_features=1500, min_df=1, max_df=0.7, stop_words=stopwords.words('english'))\n",
    "X = vectorizer.fit_transform(documents).toarray()"
   ]
  },
  {
   "cell_type": "code",
   "execution_count": 19,
   "metadata": {},
   "outputs": [],
   "source": [
    "# Convert Bag of Words values into calculate TF-IDF\n",
    "tfidfconverter = TfidfTransformer()\n",
    "X = tfidfconverter.fit_transform(X).toarray()"
   ]
  },
  {
   "cell_type": "markdown",
   "metadata": {},
   "source": [
    "## Direct conversion method"
   ]
  },
  {
   "cell_type": "code",
   "execution_count": null,
   "metadata": {},
   "outputs": [],
   "source": [
    "# Alternatively, calculate TF-IDF without using Bag of Words first\n",
    "tfidfconverter = TfidfVectorizer(max_features=1500, min_df=5, max_df=0.7, stop_words=stopwords.words('english'))\n",
    "X = tfidfconverter.fit_transform(documents).toarray()"
   ]
  },
  {
   "cell_type": "markdown",
   "metadata": {},
   "source": [
    "# End of conversion options\n",
    "---------------------"
   ]
  },
  {
   "cell_type": "markdown",
   "metadata": {},
   "source": [
    "## Fit the data"
   ]
  },
  {
   "cell_type": "code",
   "execution_count": 20,
   "metadata": {},
   "outputs": [],
   "source": [
    "# Split the data into training and testing sets\n",
    "X_train, X_test, y_train, y_test = train_test_split(X, y, test_size=0.2, random_state=0)"
   ]
  },
  {
   "cell_type": "code",
   "execution_count": 23,
   "metadata": {
    "scrolled": true
   },
   "outputs": [
    {
     "data": {
      "text/plain": [
       "RandomForestClassifier(bootstrap=True, class_weight=None, criterion='gini',\n",
       "                       max_depth=None, max_features='auto', max_leaf_nodes=None,\n",
       "                       min_impurity_decrease=0.0, min_impurity_split=None,\n",
       "                       min_samples_leaf=1, min_samples_split=2,\n",
       "                       min_weight_fraction_leaf=0.0, n_estimators=1000,\n",
       "                       n_jobs=None, oob_score=False, random_state=0, verbose=0,\n",
       "                       warm_start=False)"
      ]
     },
     "execution_count": 23,
     "metadata": {},
     "output_type": "execute_result"
    }
   ],
   "source": [
    "# Fit the data to the model\n",
    "classifier = RandomForestClassifier(n_estimators=1000, random_state=0)\n",
    "classifier.fit(X_train, y_train) "
   ]
  },
  {
   "cell_type": "code",
   "execution_count": 24,
   "metadata": {},
   "outputs": [],
   "source": [
    "# Make a prediction\n",
    "y_pred = classifier.predict(X_test)"
   ]
  },
  {
   "cell_type": "markdown",
   "metadata": {},
   "source": [
    "# Model Evaluation"
   ]
  },
  {
   "cell_type": "code",
   "execution_count": 25,
   "metadata": {},
   "outputs": [
    {
     "ename": "NameError",
     "evalue": "name 'confusion_matrix' is not defined",
     "output_type": "error",
     "traceback": [
      "\u001b[1;31m---------------------------------------------------------------------------\u001b[0m",
      "\u001b[1;31mNameError\u001b[0m                                 Traceback (most recent call last)",
      "\u001b[1;32m<ipython-input-25-d355378e0db1>\u001b[0m in \u001b[0;36m<module>\u001b[1;34m\u001b[0m\n\u001b[0;32m      1\u001b[0m \u001b[1;31m# Perform the evaluation, and print the results\u001b[0m\u001b[1;33m\u001b[0m\u001b[1;33m\u001b[0m\u001b[1;33m\u001b[0m\u001b[0m\n\u001b[0;32m      2\u001b[0m \u001b[1;33m\u001b[0m\u001b[0m\n\u001b[1;32m----> 3\u001b[1;33m \u001b[0mprint\u001b[0m\u001b[1;33m(\u001b[0m\u001b[0mconfusion_matrix\u001b[0m\u001b[1;33m(\u001b[0m\u001b[0my_test\u001b[0m\u001b[1;33m,\u001b[0m\u001b[0my_pred\u001b[0m\u001b[1;33m)\u001b[0m\u001b[1;33m)\u001b[0m\u001b[1;33m\u001b[0m\u001b[1;33m\u001b[0m\u001b[0m\n\u001b[0m\u001b[0;32m      4\u001b[0m \u001b[0mprint\u001b[0m\u001b[1;33m(\u001b[0m\u001b[0mclassification_report\u001b[0m\u001b[1;33m(\u001b[0m\u001b[0my_test\u001b[0m\u001b[1;33m,\u001b[0m\u001b[0my_pred\u001b[0m\u001b[1;33m)\u001b[0m\u001b[1;33m)\u001b[0m\u001b[1;33m\u001b[0m\u001b[1;33m\u001b[0m\u001b[0m\n\u001b[0;32m      5\u001b[0m \u001b[0mprint\u001b[0m\u001b[1;33m(\u001b[0m\u001b[0maccuracy_score\u001b[0m\u001b[1;33m(\u001b[0m\u001b[0my_test\u001b[0m\u001b[1;33m,\u001b[0m \u001b[0my_pred\u001b[0m\u001b[1;33m)\u001b[0m\u001b[1;33m)\u001b[0m\u001b[1;33m\u001b[0m\u001b[1;33m\u001b[0m\u001b[0m\n",
      "\u001b[1;31mNameError\u001b[0m: name 'confusion_matrix' is not defined"
     ]
    }
   ],
   "source": [
    "# Perform the evaluation, and print the results\n",
    "\n",
    "print(confusion_matrix(y_test,y_pred))\n",
    "print(classification_report(y_test,y_pred))\n",
    "print(accuracy_score(y_test, y_pred))"
   ]
  },
  {
   "cell_type": "markdown",
   "metadata": {},
   "source": [
    "# Save the model"
   ]
  },
  {
   "cell_type": "code",
   "execution_count": null,
   "metadata": {},
   "outputs": [],
   "source": [
    "with open('text_classifier', 'wb') as picklefile:\n",
    "    pickle.dump(classifier,picklefile)"
   ]
  },
  {
   "cell_type": "markdown",
   "metadata": {},
   "source": [
    "# Load the model"
   ]
  },
  {
   "cell_type": "code",
   "execution_count": null,
   "metadata": {},
   "outputs": [],
   "source": [
    "with open('text_classifier', 'rb') as training_model:\n",
    "    model = pickle.load(training_model)"
   ]
  },
  {
   "cell_type": "code",
   "execution_count": null,
   "metadata": {},
   "outputs": [],
   "source": [
    "# Test the loaded model to confirm that it has the same results\n",
    "y_pred2 = model.predict(X_test)\n",
    "\n",
    "print(confusion_matrix(y_test, y_pred2))\n",
    "print(classification_report(y_test, y_pred2))\n",
    "print(accuracy_score(y_test, y_pred2)) "
   ]
  },
  {
   "cell_type": "code",
   "execution_count": null,
   "metadata": {},
   "outputs": [],
   "source": []
  },
  {
   "cell_type": "code",
   "execution_count": null,
   "metadata": {},
   "outputs": [],
   "source": []
  }
 ],
 "metadata": {
  "kernelspec": {
   "display_name": "Python 3",
   "language": "python",
   "name": "python3"
  },
  "language_info": {
   "codemirror_mode": {
    "name": "ipython",
    "version": 3
   },
   "file_extension": ".py",
   "mimetype": "text/x-python",
   "name": "python",
   "nbconvert_exporter": "python",
   "pygments_lexer": "ipython3",
   "version": "3.6.9"
  }
 },
 "nbformat": 4,
 "nbformat_minor": 2
}
